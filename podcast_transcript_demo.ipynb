{
 "cells": [
  {
   "cell_type": "code",
   "execution_count": 5,
   "metadata": {},
   "outputs": [
    {
     "data": {
      "text/plain": [
       "False"
      ]
     },
     "execution_count": 5,
     "metadata": {},
     "output_type": "execute_result"
    }
   ],
   "source": [
    "from pydub import AudioSegment\n",
    "from pydub.silence import split_on_silence\n",
    "import openai\n",
    "import time\n",
    "from dotenv import load_dotenv\n",
    "load_dotenv() "
   ]
  },
  {
   "attachments": {},
   "cell_type": "markdown",
   "metadata": {},
   "source": [
    "## MP3 downloaden"
   ]
  },
  {
   "attachments": {},
   "cell_type": "markdown",
   "metadata": {},
   "source": [
    "* z.B. über https://notube.cc/de/youtube-app-v74\n",
    "* ggf. noch ffmpeg/ffprobe installieren (mac: `brew install ffmpeg`)"
   ]
  },
  {
   "attachments": {},
   "cell_type": "markdown",
   "metadata": {},
   "source": [
    "## In Einzelteile zerlegen"
   ]
  },
  {
   "cell_type": "code",
   "execution_count": 3,
   "metadata": {},
   "outputs": [],
   "source": [
    "# Chunk up the audio file \n",
    "sound_file = AudioSegment.from_mp3('podcast/Podcast.mp3')"
   ]
  },
  {
   "cell_type": "code",
   "execution_count": 10,
   "metadata": {},
   "outputs": [
    {
     "name": "stdout",
     "output_type": "stream",
     "text": [
      "0 657417.15\n",
      "Welcome to the Huberman Lab Podcast, where we discuss science and science-based tools for everyday life. I'm Andrew Huberman and I'm a professor of neurobiology and ophthalmology at Stanford School of ..\n",
      "  esoteric? Because it is all played out very well. What I'm basically saying is if you want to know what's going to be happening hot and useful in five years, you need to go back and look at the book.\n",
      "657417.15 1314834.3\n",
      "Tim Ferriss, thank you for the very generous comparison and intro. I'm thrilled to be here. So thanks for having me. The four-hour body represented an opportunity for me to do a few things. The first  ..\n",
      " ng right now? Cobbling together awkward solutions. Was that exploration a structured practice for you, or is this just something that was the consequence of being Tim Ferriss waking up in the morning?\n",
      "1314834.3 1972251.4500000002\n",
      "TIM CARUSO we'd like to introduce Tim Ferris for this podcast. of structure in the first place? It's like, okay, now it's time to think. Or do you just allow things to geyser up to the surface? I do b ..\n",
      " erson who struggles with onset insomnia, Matt made the point, and sometimes we need to relearn things. Maybe you should just go to bed later. And that's what I'm going to do. And I'm going to do that.\n",
      "1972251.4500000002 2629668.6\n",
      "I′d like to take a quick break and acknowledge one of our sponsors, Athletic Greens. Athletic Greens, now called AG1, is a vitamin, mineral, probiotic drink that covers all of your foundational nutrit ..\n",
      " t is a long-term investment. And if you are looking to make behavioral changes or modify aspects of yourself, cognitive, physical, psycho-emotional, or otherwise, I think that's a good place to start.\n",
      "2629668.6 3287085.75\n",
      "I think there's a little bit of real estate dedicated to looking at things like PRP. So platelet rich plasma, I think there's a role for it, it's not useful for everything, but for certain types of in ..\n",
      " e of winter, generally speaking, right? So you'll be fine for a few weeks. And then there's that cheat day and cheat day, anything goes. The amount of damage you can do on cheat day is pretty limited.\n",
      "3287085.75 3944502.9\n",
      "There are ways you can mitigate that there is a whole chapter called damage control in the 4-hour body but focusing just on that diet and having one day off where you know you can do anything means wh ..\n",
      " ust say the majority of the people in that thousand person sample I was talking about, the hypothetical poll from different parts of say the US or anywhere, because it seems to help with a few things.\n",
      "3944502.9 4601920.05\n",
      "Tim implores discusses benefits of the Tims leading a lifetime of philosophy meme short scalp, you know, sloughing off like when I'm in ketosis like on like what the hell is going on here going back o ..\n",
      "  is one approach, just as an example, for how to build your network, which snowballs over time. Don't hump every VIP's leg within 10 minutes of meeting them. Play it cool. And gatherings where that...\n",
      "4601920.05 5259337.2\n",
      "Hopefully it was of interest when we met him, so please join Tim Tsai Yin Rang 1500 Stay Subscribed to Tim Suzuki Productions on our YouTube channel 10. Additionally, you can support the Podcast by bu ..\n",
      " ng these five different projects. Let's say they're all going to fail, but you still have to choose one of the five. Which would you choose? Yeah, that's a great question. Much harder to answer. Yeah.\n",
      "5259337.2 5916754.350000001\n",
      "Tim Ferriss, The Tim Ferriss Show I think that asking really good questions is something clearly that you're very good at and getting a little bit deeper into your process around that, do you write th ..\n",
      " that came out of Princeton around that time looking at the amazing discovery of say, neuronal, I don't want to say regenesis, but neurogenesis in the hippocampus. Yeah, where the Goulds work. Exactly.\n",
      "5916754.350000001 6574171.500000001\n",
      "The young developing brain should be exposed to psychedelics. We could talk about that. Yeah, we could talk about that. I'm going to take my stance. I'm going to take this stance for now. Yeah, I mean ..\n",
      "  And that then led me to, and I, as I did with all my workouts, right. I took copious notes over the span, I mean, now we're looking at 10 plus years. So if I were to ever write another book, I would.\n",
      "6574171.500000001 7231588.650000001\n",
      "Tim Ferriss, The Tim Ferriss Show, The Tim Ferriss Show Podcast, The Tim Ferriss Show, The Tim Ferriss Show Podcast, The Tim Ferriss Show Podcast, The Tim Ferriss Show Podcast, The Tim Ferriss Show Po ..\n",
      " an you describe your cortisol level and subjective terms when you're at home, you got this thing and you're about to implant it. And you don't have any precedent. It's not like this is like levels or.\n",
      "7231588.650000001 7889005.800000002\n",
      "No videos to watch and wasn't really supposed to have it in the first place. And the device for readout, by the way, no iPhone, right? So it was like this janky pager looking thing that had a readout  ..\n",
      " onditions, which is very exciting. So I'm interested in any tools that are off the beaten path that seem to raise interesting questions that have not been answered in a satisfying way yet in medicine.\n",
      "7889005.800000002 8546422.950000001\n",
      "And I think we're still largely in the dark ages with respect to psychiatry. Oh, I think the best psychiatrists would agree with you. Yeah. And the best psychiatrists and the best scientists and the b ..\n",
      " y, I think you're doing yourself a disservice if you jump from park into sixth gear. And so I plan for that. And I'm going to do that. And I'm going to do that. And I'm going to do that. And I'm going\n",
      "8546422.950000001 9203840.100000001\n",
      "Where can I deoptimize? Where can I stop measuring? Where can I stop reading books? Which areas can I ignore completely? What types of information can I just excise from my life altogether for a perio ..\n",
      " h many friends. I also think a lot about, and this is borrowing from someone named Kathy Sierra, from a long time ago, focusing more on just-in-time information as opposed to just-in-case information.\n",
      "9203840.100000001 9861257.250000002\n",
      "So just in case information is like, I'm going to read these 20 books because in two years I might be interested in X, Y and Z. That, I think, is often a waste of time because if it ever becomes relev ..\n",
      " a restaurant by hopping on Twitter or Instagram. So that's part of the reason they're not on my phone. Could you tell us about cock punch? Yeah, I can tell you about cock punch. Cock punch is a great.\n",
      "9861257.250000002 10518674.400000002\n",
      "I wanted to experiment with fiction writing. I have been saying this for years and I have never done it. That's the backdrop. On top of that, I have wanted to get back into illustration and work in th ..\n",
      " th this generative drive, which has a lot to do with positive energy, not just positive thinking, but positive energy, but this triad of peace, contentment, and delight. And as you were explaining it.\n",
      "10518674.400000002 11176091.550000003\n",
      "It's clear that it brings you great peace, contentment and delight as action terms, not like sit there and just hover in the basking in it. It's just so clear that this was a great idea. And I love th ..\n",
      " nt where I decided, not that objectively my life is bad. I think this is where people who haven't experienced depression get a little confused, or it's hard for them to identify when they give advice.\n",
      "11176091.550000003 11833508.700000003\n",
      "I and realize that killing yourself is like putting on a suicide vest with explosives and walking into a room of all the people you care the most about and blowing yourself up. So that snapped me out  ..\n",
      " t one point who said, take the pain and make it part of your medicine. And the way I think that applies here is we all experience pain. We all experience suffering. Many of us have experienced trauma.\n",
      "11833508.700000003 12490925.850000003\n",
      "I've had to disengage from that because it gets too heavy, right? Just to engage one-on-one with people who are suicidal, but there are resources in that post I mentioned, the practical thoughts on su ..\n",
      " ery important for me to spend a lot of time training Molly. A lot of learning there. Yeah. Am I going to do the heavy lifting and the hard work? Knowing that kids are not deferred dogs, but I think...\n"
     ]
    }
   ],
   "source": [
    "chunksize=len(sound_file)/20\n",
    "start=0\n",
    "i=0\n",
    "end=start+chunksize\n",
    "ges_transcript=[]\n",
    "\n",
    "while end<len(sound_file):\n",
    "    print(start,end)\n",
    "    chunk=sound_file[start:end]\n",
    "    chunk.export('podcast/Podcast_'+str(i)+'.mp3',format='mp3')\n",
    "    with open('podcast/Podcast_'+str(i)+'.mp3', 'rb') as podcast_part:\n",
    "        transcript = openai.Audio.translate(\"whisper-1\", podcast_part, prompt=\"In this episode, my guest is Tim Ferriss — a five-time #1 New York Times bestselling author, technology investor and host of the iconic podcast, The Tim Ferriss Show. We discuss Tim’s process of exploration, experimentation and mastery — themes that have spanned his career that have placed him on the cutting-edge of many important fields. Tim explains what questions to ask when approaching any new endeavor in order to maximize success. He also explains how to incorporate structure and playfulness into skill and knowledge mastery, how to find and work with mentors, the key importance of location and networks in creating truly impactful things. We also discuss Tims philanthropic efforts to support research on psychedelics for the treatment of mental health challenges and we discuss his latest creative endeavors. This episode should be of interest to a wide range of listeners, as Tim’s mastery and wisdom spans athletic and mental pursuits, business, media, technology and the arts. What distinguishes Tim is his ability to thoughtfully deconstruct these processes in order to teach others how to do the same.\")\n",
    "    ges_transcript.append(transcript)\n",
    "    print(transcript.text[:200], '..\\n', transcript.text[-200:])\n",
    "    start=end\n",
    "    end=start+chunksize\n",
    "    i+=1"
   ]
  },
  {
   "attachments": {},
   "cell_type": "markdown",
   "metadata": {},
   "source": [
    "## Zusammenfassen"
   ]
  },
  {
   "cell_type": "code",
   "execution_count": 31,
   "metadata": {},
   "outputs": [],
   "source": [
    "from langchain import PromptTemplate, LLMChain\n",
    "from langchain.text_splitter import CharacterTextSplitter\n",
    "from langchain.chat_models import ChatOpenAI\n",
    "from langchain.chains.summarize import load_summarize_chain\n",
    "from langchain.chains import RetrievalQA\n",
    "from langchain.document_loaders import TextLoader\n",
    "from langchain.embeddings.openai import OpenAIEmbeddings\n",
    "from langchain.vectorstores import Chroma\n",
    "from langchain.chains import HypotheticalDocumentEmbedder"
   ]
  },
  {
   "cell_type": "code",
   "execution_count": 17,
   "metadata": {},
   "outputs": [
    {
     "data": {
      "text/plain": [
       "19"
      ]
     },
     "execution_count": 17,
     "metadata": {},
     "output_type": "execute_result"
    }
   ],
   "source": [
    "splitter=CharacterTextSplitter(chunk_size = 15000)\n",
    "docs=splitter.create_documents([transcript.text for transcript in ges_transcript])\n",
    "len(docs)"
   ]
  },
  {
   "cell_type": "code",
   "execution_count": 20,
   "metadata": {},
   "outputs": [],
   "source": [
    "prompt_template = \"\"\"Write a concise summary of the following transcript of the Huberman Lab Podcast with Tim Ferriss. The summary should be concise and only include the main takeaways:\n",
    "\n",
    "\n",
    "{text}\n",
    "\n",
    "\n",
    "CONCISE SUMMARY IN GERMAN:\"\"\"\n",
    "PROMPT = PromptTemplate(template=prompt_template, input_variables=[\"text\"])\n",
    "refine_template = (\n",
    "    \"Your job is to produce a final summary\\n\"\n",
    "    \"We have provided an existing summary up to a certain point:\\n\\n {existing_answer}\\n\\n\"\n",
    "    \"We have the opportunity to refine the existing summary\"\n",
    "    \"(only if needed) with some more context below.\\n\"\n",
    "    \"------------\\n\"\n",
    "    \"{text}\\n\"\n",
    "    \"------------\\n\"\n",
    "    \"Given the new context, refine the original summary in German. Use Markdown to format your answer.\\n\"\n",
    "    \"If the context isn't useful, return the original summary.\"\n",
    ")\n",
    "refine_prompt = PromptTemplate(\n",
    "    input_variables=[\"existing_answer\", \"text\"],\n",
    "    template=refine_template,\n",
    ")\n",
    "chain = load_summarize_chain(ChatOpenAI(model_name='gpt-3.5-turbo-16k-0613', temperature=0.2), chain_type=\"refine\", return_intermediate_steps=False, question_prompt=PROMPT, refine_prompt=refine_prompt)"
   ]
  },
  {
   "cell_type": "code",
   "execution_count": 21,
   "metadata": {},
   "outputs": [],
   "source": [
    "summary= chain({\"input_documents\": docs}, return_only_outputs=True)"
   ]
  },
  {
   "cell_type": "code",
   "execution_count": 22,
   "metadata": {},
   "outputs": [
    {
     "name": "stdout",
     "output_type": "stream",
     "text": [
      "Tim Ferriss betont die Bedeutung des bewussten Zeitmanagements, der Auswahl der richtigen Aktivitäten und Menschen sowie der Fähigkeit, sich auf das Wesentliche zu konzentrieren, um ein erfülltes und erfolgreiches Leben zu führen. Er spricht auch über die Bedeutung von Deoptimierung und Pausen, um Unbehagen zu erleben und neue kreative Energien freizusetzen. Ferriss betont die Vorteile von Mentoren und die Bedeutung des Lernens von fast jedem. Er spricht auch über die Wichtigkeit der Aufmerksamkeitszuweisung und des Zeitmanagements, um sich auf wichtige Aktivitäten zu konzentrieren und Ablenkungen zu vermeiden. Ferriss erwähnt den Einfluss von sozialen Medien auf die Aufmerksamkeit und betont die Notwendigkeit, bewusst mit ihnen umzugehen. Insgesamt betont er die Bedeutung von Energie, Kreativität und der Verfolgung von Projekten, die uns Freude bereiten. Ferriss teilt auch persönliche Erfahrungen, wie seine eigene Suizidgedanken in der Vergangenheit, um anderen zu helfen und ihnen Mut zu machen, über ihre eigenen mentalen Herausforderungen zu sprechen. Darüber hinaus hat er auch über seine Erfahrungen mit sexuellem Missbrauch gesprochen und wie er sich entschieden hat, diese Erfahrungen öffentlich zu teilen, um anderen zu helfen und Hoffnung zu geben. Seine Offenheit hat bereits vielen Menschen geholfen und ermutigt andere, ihre eigenen Traumata anzusprechen. Ferriss identifiziert sich hauptsächlich als Experimentalist und Lehrer und betont die Bedeutung von Rollenidentität. Er erwähnt auch sein Interesse an Kunst und seine frühere Karriere als Illustrator. Er möchte seine Fähigkeiten in der visuellen Kunst weiterentwickeln und auch Animation ausprobieren. Darüber hinaus erwähnt er den Wunsch, irgendwann Vater zu werden und betont die Unterschiede zwischen dem Wunsch, Kinder zu haben, und dem Wunsch, ein guter Elternteil zu sein.\n"
     ]
    }
   ],
   "source": [
    "print(summary['output_text'])"
   ]
  },
  {
   "attachments": {},
   "cell_type": "markdown",
   "metadata": {},
   "source": [
    "# Fragen Stellen"
   ]
  },
  {
   "cell_type": "code",
   "execution_count": 34,
   "metadata": {},
   "outputs": [],
   "source": [
    "text_splitter = CharacterTextSplitter(chunk_size=1000, chunk_overlap=0, separator=' ')\n",
    "texts = text_splitter.split_documents(docs)\n",
    "embeddings = OpenAIEmbeddings()"
   ]
  },
  {
   "attachments": {},
   "cell_type": "markdown",
   "metadata": {},
   "source": [
    "### HyDe Embeddings für bessere Übersetzung Deutsch/Englisch bei kurzen Queries"
   ]
  },
  {
   "cell_type": "code",
   "execution_count": 44,
   "metadata": {},
   "outputs": [],
   "source": [
    "hyde_prompt_template = \"\"\"Please answer the user's question about the podcast transcript. The user question will be in German but the answer should be in English!\n",
    "\n",
    "Question: {question}\n",
    "Answer in English:\"\"\"\n",
    "hyde_prompt = PromptTemplate(input_variables=[\"question\"], template=hyde_prompt_template)\n",
    "llm_chain = LLMChain(llm=ChatOpenAI(), prompt=hyde_prompt)\n",
    "\n",
    "hyde_embeddings = HypotheticalDocumentEmbedder(\n",
    "    llm_chain=llm_chain, base_embeddings=embeddings\n",
    ")\n",
    "docsearch = Chroma.from_documents(texts, hyde_embeddings)\n",
    "qa = RetrievalQA.from_chain_type(llm=ChatOpenAI(model_name='gpt-3.5-turbo-16k-0613', temperature=0.0), chain_type=\"stuff\", retriever=docsearch.as_retriever())"
   ]
  },
  {
   "cell_type": "code",
   "execution_count": 52,
   "metadata": {},
   "outputs": [
    {
     "data": {
      "text/plain": [
       "'Tim Ferriss hat sich intensiv mit dem Thema geistige Gesundheit auseinandergesetzt und ist ein Befürworter der Verwendung von psychedelischen Substanzen zur Behandlung von psychischen Erkrankungen wie Depressionen, Essstörungen und Sucht. Er hat mehrere Millionen Dollar für die Erforschung von psychedelischer Therapie gespendet und hat damit maßgeblich dazu beigetragen, dass dieses Feld von der Randwissenschaft zur etablierten Forschung mit Unterstützung durch Philanthropie und staatliche Fördermittel geworden ist. Tim Ferriss hat sich auch für verschiedene philanthropische Projekte engagiert und setzt sich aktiv für die Verbesserung der geistigen Gesundheit ein.'"
      ]
     },
     "execution_count": 52,
     "metadata": {},
     "output_type": "execute_result"
    }
   ],
   "source": [
    "qa.run(\"Was sind Tim Feriss Erfahrungen im Bezug auf geistige Gesundheit?\")"
   ]
  }
 ],
 "metadata": {
  "kernelspec": {
   "display_name": ".venv",
   "language": "python",
   "name": "python3"
  },
  "language_info": {
   "codemirror_mode": {
    "name": "ipython",
    "version": 3
   },
   "file_extension": ".py",
   "mimetype": "text/x-python",
   "name": "python",
   "nbconvert_exporter": "python",
   "pygments_lexer": "ipython3",
   "version": "3.10.12"
  },
  "orig_nbformat": 4
 },
 "nbformat": 4,
 "nbformat_minor": 2
}
